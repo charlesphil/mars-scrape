{
 "cells": [
  {
   "cell_type": "markdown",
   "metadata": {},
   "source": [
    "## A note before starting\n",
    "\n",
    "I have opted to use slightly different websites to scrape. In order to have my Flask app serve the most recent content, I decided to go directly to the source pages instead of the re-hosted websites provided from the instructions."
   ]
  },
  {
   "cell_type": "markdown",
   "metadata": {},
   "source": [
    "### Dependencies"
   ]
  },
  {
   "cell_type": "code",
   "execution_count": 1,
   "metadata": {},
   "outputs": [],
   "source": [
    "# Import dependencies\n",
    "import time\n",
    "from bs4 import BeautifulSoup\n",
    "import pandas as pd\n",
    "import requests\n",
    "from splinter import Browser\n",
    "from webdriver_manager.chrome import ChromeDriverManager"
   ]
  },
  {
   "cell_type": "markdown",
   "metadata": {},
   "source": [
    "### Splinter browser setup with Chrome webdriver"
   ]
  },
  {
   "cell_type": "code",
   "execution_count": 2,
   "metadata": {},
   "outputs": [
    {
     "name": "stderr",
     "output_type": "stream",
     "text": [
      "\n",
      "\n",
      "====== WebDriver manager ======\n",
      "Current google-chrome version is 99.0.4844\n",
      "Get LATEST chromedriver version for 99.0.4844 google-chrome\n",
      "There is no [linux64] chromedriver for browser 99.0.4844 in cache\n",
      "Trying to download new driver from https://chromedriver.storage.googleapis.com/99.0.4844.51/chromedriver_linux64.zip\n",
      "Driver has been saved in cache [/home/charlie/.wdm/drivers/chromedriver/linux64/99.0.4844.51]\n"
     ]
    }
   ],
   "source": [
    "# Set up a windowless Splinter browser with Chrome webdriver to use later when \n",
    "# interacting with the NASA News and Mars Facts pages\n",
    "\n",
    "executable_path = {\"executable_path\": ChromeDriverManager().install()}\n",
    "browser = Browser(\"chrome\", **executable_path, headless=True)"
   ]
  },
  {
   "cell_type": "markdown",
   "metadata": {},
   "source": [
    "*Chrome must be installed for this to work. In Windows, the WebDriver Manager may not be able to find Chrome's version number and will print out a warning. The web driver will be saved into and run from the cache.*"
   ]
  },
  {
   "cell_type": "markdown",
   "metadata": {},
   "source": [
    "### Scraping NASA's Mars News Site"
   ]
  },
  {
   "cell_type": "markdown",
   "metadata": {},
   "source": [
    "**Note: NASA uses JS to load certain elements, which causes issues if the code pulls in the HTML before letting the page load in its entirety. The solution for now is to pause the code for a second to let the elements load in. This also means that we cannot use the `requests` module because there is no way to pause the request in the middle of a response.**"
   ]
  },
  {
   "cell_type": "code",
   "execution_count": 3,
   "metadata": {},
   "outputs": [],
   "source": [
    "# Splinter browser\n",
    "url = (\"https://mars.nasa.gov/news/?page=0&per_page=40\"\n",
    "    + \"&order=publish_date+desc%2Ccreated_at+desc&search=\"\n",
    "    + \"&category=19%2C165%2C184%2C204&blank_scope=Latest\")\n",
    "browser.visit(url)\n",
    "\n",
    "# NASA loads certain elements using JS, and can cause problems if we load the\n",
    "# HTML too quickly. Sleep for one second to let their JS do its thing.\n",
    "time.sleep(1)\n",
    "\n",
    "# Grab HTML from Splinter browser visit\n",
    "html = browser.html\n",
    "soup = BeautifulSoup(html, \"lxml\")"
   ]
  },
  {
   "cell_type": "code",
   "execution_count": 4,
   "metadata": {},
   "outputs": [
    {
     "name": "stdout",
     "output_type": "stream",
     "text": [
      "{'title': \"NASA's Perseverance Rover Hightails It to Martian Delta\", 'paragraph': 'The rover’s self-driving capabilities will be put to the test this month as it begins a record-breaking series of sprints to its next sampling location.', 'url': 'https://mars.nasa.gov/news/9149/nasas-perseverance-rover-hightails-it-to-martian-delta/'}\n"
     ]
    }
   ],
   "source": [
    "# Select the most recent article (select_one method returns first instance)\n",
    "latest_article = soup.select_one(\"li.slide\")\n",
    "\n",
    "# Grab article's title, paragraph, and url\n",
    "latest_title = latest_article.select_one(\"div.content_title\").text\n",
    "latest_para = latest_article.select_one(\"div.article_teaser_body\").text\n",
    "latest_url = f\"https://mars.nasa.gov{latest_article.a['href']}\"\n",
    "\n",
    "# Save in a dictionary for quick access\n",
    "latest_news = {\n",
    "    \"title\": latest_title,\n",
    "    \"paragraph\": latest_para,\n",
    "    \"url\": latest_url\n",
    "}\n",
    "\n",
    "print(latest_news)"
   ]
  },
  {
   "cell_type": "markdown",
   "metadata": {},
   "source": [
    "### Scraping NASA's Mars Image of the Week"
   ]
  },
  {
   "cell_type": "code",
   "execution_count": 5,
   "metadata": {},
   "outputs": [],
   "source": [
    "# Scrape with requests module serving the HTML\n",
    "url = \"https://mars.nasa.gov/\"\n",
    "response = requests.get(url)\n",
    "soup = BeautifulSoup(response.text, \"lxml\")"
   ]
  },
  {
   "cell_type": "code",
   "execution_count": 6,
   "metadata": {},
   "outputs": [
    {
     "name": "stdout",
     "output_type": "stream",
     "text": [
      "{'name': 'Promethei Chasma', 'img_url': 'https://mars.nasa.gov/system/basic_html_elements/293_1600x900-horizontal-ODYSSEY-PROMETHEI-CHASMA-PIA24409.jpg', 'article_url': 'https://mars.nasa.gov/resources/25604/promethei-chasma/'}\n"
     ]
    }
   ],
   "source": [
    "# Select the image of the week's src attribute and the name of the image\n",
    "\n",
    "# NASA uses js imageScroll to convert img tag\n",
    "featured_image = soup.select_one(\"#featured_image\")\n",
    "featured_url = f\"https://mars.nasa.gov{featured_image['data-image']}\"\n",
    "\n",
    "# Select the Image of the Week's Name\n",
    "featured_name = soup.select_one(\".image_of_the_day\").\\\n",
    "    select_one(\".media_feature_title\").text.strip()\n",
    "\n",
    "# Get link to the article page for the image of the week\n",
    "article_url = soup.select_one(\".header_link\")[\"href\"]\n",
    "\n",
    "# Store name, image url, and article url of featured image\n",
    "image_of_week = {\n",
    "    \"name\": featured_name, \"img_url\": featured_url, \"article_url\": article_url\n",
    "}\n",
    "print(image_of_week)"
   ]
  },
  {
   "cell_type": "markdown",
   "metadata": {},
   "source": [
    "### Scraping NASA's Mars Facts Page with Pandas\n",
    "\n",
    "**Note: I am using NASA's own HTML table instead of the re-hosted table provided from the instructions.**"
   ]
  },
  {
   "cell_type": "code",
   "execution_count": 7,
   "metadata": {},
   "outputs": [
    {
     "data": {
      "text/html": [
       "<div>\n",
       "<style scoped>\n",
       "    .dataframe tbody tr th:only-of-type {\n",
       "        vertical-align: middle;\n",
       "    }\n",
       "\n",
       "    .dataframe tbody tr th {\n",
       "        vertical-align: top;\n",
       "    }\n",
       "\n",
       "    .dataframe thead th {\n",
       "        text-align: right;\n",
       "    }\n",
       "</style>\n",
       "<table border=\"1\" class=\"dataframe\">\n",
       "  <thead>\n",
       "    <tr style=\"text-align: right;\">\n",
       "      <th></th>\n",
       "      <th>Unnamed: 0</th>\n",
       "      <th>EARTH</th>\n",
       "      <th>MARS</th>\n",
       "    </tr>\n",
       "  </thead>\n",
       "  <tbody>\n",
       "    <tr>\n",
       "      <th>0</th>\n",
       "      <td>Average Distance from Sun</td>\n",
       "      <td>93 million miles</td>\n",
       "      <td>142 million miles</td>\n",
       "    </tr>\n",
       "    <tr>\n",
       "      <th>1</th>\n",
       "      <td>Average Speed in Orbiting Sun</td>\n",
       "      <td>18.5 miles per second</td>\n",
       "      <td>14.5 miles per second</td>\n",
       "    </tr>\n",
       "    <tr>\n",
       "      <th>2</th>\n",
       "      <td>Diameter</td>\n",
       "      <td>7,926 miles</td>\n",
       "      <td>4,220 miles</td>\n",
       "    </tr>\n",
       "    <tr>\n",
       "      <th>3</th>\n",
       "      <td>Tilt of Axis</td>\n",
       "      <td>23.5 degrees</td>\n",
       "      <td>25 degrees</td>\n",
       "    </tr>\n",
       "    <tr>\n",
       "      <th>4</th>\n",
       "      <td>Length of Year</td>\n",
       "      <td>365.25 Days</td>\n",
       "      <td>687 Earth Days</td>\n",
       "    </tr>\n",
       "    <tr>\n",
       "      <th>5</th>\n",
       "      <td>Length of Day</td>\n",
       "      <td>23 hours 56 minutes</td>\n",
       "      <td>24 hours 37 minutes</td>\n",
       "    </tr>\n",
       "    <tr>\n",
       "      <th>6</th>\n",
       "      <td>Gravity</td>\n",
       "      <td>2.66 times that of Mars</td>\n",
       "      <td>0.375 that of Earth</td>\n",
       "    </tr>\n",
       "    <tr>\n",
       "      <th>7</th>\n",
       "      <td>Temperature</td>\n",
       "      <td>Average 57 degrees F</td>\n",
       "      <td>Average -81 degrees F</td>\n",
       "    </tr>\n",
       "    <tr>\n",
       "      <th>8</th>\n",
       "      <td>Atmosphere</td>\n",
       "      <td>nitrogen, oxygen, argon, others</td>\n",
       "      <td>mostly carbon dioxide, some water vapor</td>\n",
       "    </tr>\n",
       "    <tr>\n",
       "      <th>9</th>\n",
       "      <td>Number of Moons</td>\n",
       "      <td>1</td>\n",
       "      <td>2</td>\n",
       "    </tr>\n",
       "  </tbody>\n",
       "</table>\n",
       "</div>"
      ],
      "text/plain": [
       "                      Unnamed: 0                            EARTH  \\\n",
       "0      Average Distance from Sun                 93 million miles   \n",
       "1  Average Speed in Orbiting Sun            18.5 miles per second   \n",
       "2                       Diameter                      7,926 miles   \n",
       "3                   Tilt of Axis                     23.5 degrees   \n",
       "4                 Length of Year                      365.25 Days   \n",
       "5                  Length of Day              23 hours 56 minutes   \n",
       "6                        Gravity          2.66 times that of Mars   \n",
       "7                    Temperature             Average 57 degrees F   \n",
       "8                     Atmosphere  nitrogen, oxygen, argon, others   \n",
       "9                Number of Moons                                1   \n",
       "\n",
       "                                      MARS  \n",
       "0                        142 million miles  \n",
       "1                    14.5 miles per second  \n",
       "2                              4,220 miles  \n",
       "3                               25 degrees  \n",
       "4                           687 Earth Days  \n",
       "5                      24 hours 37 minutes  \n",
       "6                      0.375 that of Earth  \n",
       "7                    Average -81 degrees F  \n",
       "8  mostly carbon dioxide, some water vapor  \n",
       "9                                        2  "
      ]
     },
     "execution_count": 7,
     "metadata": {},
     "output_type": "execute_result"
    }
   ],
   "source": [
    "# Read any available tables from the web page (should be just one)\n",
    "url = \"https://mars.nasa.gov/all-about-mars/facts/\"\n",
    "facts_table = pd.read_html(url)\n",
    "df = facts_table[0]\n",
    "df"
   ]
  },
  {
   "cell_type": "code",
   "execution_count": 8,
   "metadata": {},
   "outputs": [
    {
     "data": {
      "text/html": [
       "<div>\n",
       "<style scoped>\n",
       "    .dataframe tbody tr th:only-of-type {\n",
       "        vertical-align: middle;\n",
       "    }\n",
       "\n",
       "    .dataframe tbody tr th {\n",
       "        vertical-align: top;\n",
       "    }\n",
       "\n",
       "    .dataframe thead th {\n",
       "        text-align: right;\n",
       "    }\n",
       "</style>\n",
       "<table border=\"1\" class=\"dataframe\">\n",
       "  <thead>\n",
       "    <tr style=\"text-align: right;\">\n",
       "      <th></th>\n",
       "      <th></th>\n",
       "      <th>EARTH</th>\n",
       "      <th>MARS</th>\n",
       "    </tr>\n",
       "  </thead>\n",
       "  <tbody>\n",
       "    <tr>\n",
       "      <th>0</th>\n",
       "      <td>Average Distance from Sun</td>\n",
       "      <td>93 million miles</td>\n",
       "      <td>142 million miles</td>\n",
       "    </tr>\n",
       "    <tr>\n",
       "      <th>1</th>\n",
       "      <td>Average Speed in Orbiting Sun</td>\n",
       "      <td>18.5 miles per second</td>\n",
       "      <td>14.5 miles per second</td>\n",
       "    </tr>\n",
       "    <tr>\n",
       "      <th>2</th>\n",
       "      <td>Diameter</td>\n",
       "      <td>7,926 miles</td>\n",
       "      <td>4,220 miles</td>\n",
       "    </tr>\n",
       "    <tr>\n",
       "      <th>3</th>\n",
       "      <td>Tilt of Axis</td>\n",
       "      <td>23.5 degrees</td>\n",
       "      <td>25 degrees</td>\n",
       "    </tr>\n",
       "    <tr>\n",
       "      <th>4</th>\n",
       "      <td>Length of Year</td>\n",
       "      <td>365.25 Days</td>\n",
       "      <td>687 Earth Days</td>\n",
       "    </tr>\n",
       "    <tr>\n",
       "      <th>5</th>\n",
       "      <td>Length of Day</td>\n",
       "      <td>23 hours 56 minutes</td>\n",
       "      <td>24 hours 37 minutes</td>\n",
       "    </tr>\n",
       "    <tr>\n",
       "      <th>6</th>\n",
       "      <td>Gravity</td>\n",
       "      <td>2.66 times that of Mars</td>\n",
       "      <td>0.375 that of Earth</td>\n",
       "    </tr>\n",
       "    <tr>\n",
       "      <th>7</th>\n",
       "      <td>Temperature</td>\n",
       "      <td>Average 57 degrees F</td>\n",
       "      <td>Average -81 degrees F</td>\n",
       "    </tr>\n",
       "    <tr>\n",
       "      <th>8</th>\n",
       "      <td>Atmosphere</td>\n",
       "      <td>nitrogen, oxygen, argon, others</td>\n",
       "      <td>mostly carbon dioxide, some water vapor</td>\n",
       "    </tr>\n",
       "    <tr>\n",
       "      <th>9</th>\n",
       "      <td>Number of Moons</td>\n",
       "      <td>1</td>\n",
       "      <td>2</td>\n",
       "    </tr>\n",
       "  </tbody>\n",
       "</table>\n",
       "</div>"
      ],
      "text/plain": [
       "                                                            EARTH  \\\n",
       "0      Average Distance from Sun                 93 million miles   \n",
       "1  Average Speed in Orbiting Sun            18.5 miles per second   \n",
       "2                       Diameter                      7,926 miles   \n",
       "3                   Tilt of Axis                     23.5 degrees   \n",
       "4                 Length of Year                      365.25 Days   \n",
       "5                  Length of Day              23 hours 56 minutes   \n",
       "6                        Gravity          2.66 times that of Mars   \n",
       "7                    Temperature             Average 57 degrees F   \n",
       "8                     Atmosphere  nitrogen, oxygen, argon, others   \n",
       "9                Number of Moons                                1   \n",
       "\n",
       "                                      MARS  \n",
       "0                        142 million miles  \n",
       "1                    14.5 miles per second  \n",
       "2                              4,220 miles  \n",
       "3                               25 degrees  \n",
       "4                           687 Earth Days  \n",
       "5                      24 hours 37 minutes  \n",
       "6                      0.375 that of Earth  \n",
       "7                    Average -81 degrees F  \n",
       "8  mostly carbon dioxide, some water vapor  \n",
       "9                                        2  "
      ]
     },
     "execution_count": 8,
     "metadata": {},
     "output_type": "execute_result"
    }
   ],
   "source": [
    "# Table looks remarkably clean, just get rid of the name of the first column\n",
    "df = df.rename(columns={\"Unnamed: 0\": \"\"})\n",
    "df"
   ]
  },
  {
   "cell_type": "code",
   "execution_count": 9,
   "metadata": {},
   "outputs": [
    {
     "data": {
      "text/plain": [
       "'<table border=\"1\" class=\"dataframe\">\\n  <thead>\\n    <tr style=\"text-align: right;\">\\n      <th></th>\\n      <th>EARTH</th>\\n      <th>MARS</th>\\n    </tr>\\n  </thead>\\n  <tbody>\\n    <tr>\\n      <td>Average Distance from Sun</td>\\n      <td>93 million miles</td>\\n      <td>142 million miles</td>\\n    </tr>\\n    <tr>\\n      <td>Average Speed in Orbiting Sun</td>\\n      <td>18.5 miles per second</td>\\n      <td>14.5 miles per second</td>\\n    </tr>\\n    <tr>\\n      <td>Diameter</td>\\n      <td>7,926 miles</td>\\n      <td>4,220 miles</td>\\n    </tr>\\n    <tr>\\n      <td>Tilt of Axis</td>\\n      <td>23.5 degrees</td>\\n      <td>25 degrees</td>\\n    </tr>\\n    <tr>\\n      <td>Length of Year</td>\\n      <td>365.25 Days</td>\\n      <td>687 Earth Days</td>\\n    </tr>\\n    <tr>\\n      <td>Length of Day</td>\\n      <td>23 hours 56 minutes</td>\\n      <td>24 hours 37 minutes</td>\\n    </tr>\\n    <tr>\\n      <td>Gravity</td>\\n      <td>2.66 times that of Mars</td>\\n      <td>0.375 that of Earth</td>\\n    </tr>\\n    <tr>\\n      <td>Temperature</td>\\n      <td>Average 57 degrees F</td>\\n      <td>Average -81 degrees F</td>\\n    </tr>\\n    <tr>\\n      <td>Atmosphere</td>\\n      <td>nitrogen, oxygen, argon, others</td>\\n      <td>mostly carbon dioxide, some water vapor</td>\\n    </tr>\\n    <tr>\\n      <td>Number of Moons</td>\\n      <td>1</td>\\n      <td>2</td>\\n    </tr>\\n  </tbody>\\n</table>'"
      ]
     },
     "execution_count": 9,
     "metadata": {},
     "output_type": "execute_result"
    }
   ],
   "source": [
    "# Convert to HTML table\n",
    "html_facts_table = df.to_html(index=False)\n",
    "html_facts_table"
   ]
  },
  {
   "cell_type": "markdown",
   "metadata": {},
   "source": [
    "### Scraping Astrogeology USGS website for high resolution Mars hemisphere images"
   ]
  },
  {
   "cell_type": "code",
   "execution_count": 10,
   "metadata": {},
   "outputs": [],
   "source": [
    "# Need to interact with website for images, use Splinter\n",
    "url = (\"https://astrogeology.usgs.gov/search/results?\"\n",
    "    + \"q=hemisphere+enhanced&k1=target&v1=Mars\")\n",
    "browser.visit(url)\n",
    "html = browser.html\n",
    "soup = BeautifulSoup(html, \"lxml\")\n",
    "\n",
    "# Get all hemispheres from the results page\n",
    "hemispheres = soup.select(\"h3\")\n",
    "\n",
    "# List comprehension to remove \"Enhanced\" from the hemisphere names\n",
    "hemispheres = [\" \".join(name.text.split()[:-1]) for name in hemispheres]\n",
    "\n",
    "# Initialize empty list to store dictionaries of hemisphere names \n",
    "# and image links into later\n",
    "hemisphere_imgs = []\n",
    "\n",
    "# For each hemisphere, create dictionary entry, click on their links, \n",
    "# get the url of the full image, and go back to the results page to \n",
    "# click on the next hemisphere\n",
    "for index, value in enumerate(hemispheres):\n",
    "    hemisphere_imgs.append({\"name\": value})\n",
    "\n",
    "    browser.links.find_by_partial_text(value).click()\n",
    "\n",
    "    # Grab the new page's HTML and parse using beautiful soup\n",
    "    html = browser.html\n",
    "    soup = BeautifulSoup(html, \"lxml\")\n",
    "\n",
    "    # Get image url, add to dictionary\n",
    "    img_url = (\n",
    "        f\"https://astrogeology.usgs.gov\"\n",
    "        f\"{soup.select_one('img.wide-image')['src']}\"\n",
    "    )\n",
    "    hemisphere_imgs[index][\"url\"] = img_url\n",
    "\n",
    "    # Go back to page with all hemispheres, reload the html\n",
    "    browser.back()\n",
    "    html = browser.html\n",
    "    soup = BeautifulSoup(html, \"lxml\")"
   ]
  },
  {
   "cell_type": "code",
   "execution_count": 11,
   "metadata": {},
   "outputs": [
    {
     "name": "stdout",
     "output_type": "stream",
     "text": [
      "[{'name': 'Cerberus Hemisphere', 'url': 'https://astrogeology.usgs.gov/cache/images/f5e372a36edfa389625da6d0cc25d905_cerberus_enhanced.tif_full.jpg'}, {'name': 'Schiaparelli Hemisphere', 'url': 'https://astrogeology.usgs.gov/cache/images/3778f7b43bbbc89d6e3cfabb3613ba93_schiaparelli_enhanced.tif_full.jpg'}, {'name': 'Syrtis Major Hemisphere', 'url': 'https://astrogeology.usgs.gov/cache/images/555e6403a6ddd7ba16ddb0e471cadcf7_syrtis_major_enhanced.tif_full.jpg'}, {'name': 'Valles Marineris Hemisphere', 'url': 'https://astrogeology.usgs.gov/cache/images/b3c7c6c9138f57b4756be9b9c43e3a48_valles_marineris_enhanced.tif_full.jpg'}]\n"
     ]
    }
   ],
   "source": [
    "# Confirming list of dictionaries was built successfully\n",
    "print(hemisphere_imgs)"
   ]
  },
  {
   "cell_type": "code",
   "execution_count": 12,
   "metadata": {},
   "outputs": [],
   "source": [
    "# End browser instance\n",
    "browser.quit()"
   ]
  }
 ],
 "metadata": {
  "interpreter": {
   "hash": "43c138dfbf2410da37bb9ab13b7cd5f7eee07e37935b7659c8a1008ad263e8ec"
  },
  "kernelspec": {
   "display_name": "Python 3.7.11 ('PythonData')",
   "language": "python",
   "name": "python3"
  },
  "language_info": {
   "codemirror_mode": {
    "name": "ipython",
    "version": 3
   },
   "file_extension": ".py",
   "mimetype": "text/x-python",
   "name": "python",
   "nbconvert_exporter": "python",
   "pygments_lexer": "ipython3",
   "version": "3.9.7"
  },
  "orig_nbformat": 4
 },
 "nbformat": 4,
 "nbformat_minor": 2
}
